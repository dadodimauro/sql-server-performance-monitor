{
 "cells": [
  {
   "cell_type": "code",
   "execution_count": 1,
   "metadata": {
    "collapsed": true,
    "ExecuteTime": {
     "start_time": "2023-04-17T11:35:19.436028Z",
     "end_time": "2023-04-17T11:35:22.230369Z"
    }
   },
   "outputs": [],
   "source": [
    "import numpy as np\n",
    "import pandas as pd\n",
    "import matplotlib.pyplot as plt"
   ]
  },
  {
   "cell_type": "code",
   "execution_count": 40,
   "outputs": [
    {
     "data": {
      "text/plain": "      report_name          report_time  Physical memory in use (MB)   \n0  process memory  11/04/2023 12:00:00                         3651  \\\n1  process memory  11/04/2023 13:00:00                         3648   \n2  process memory  11/04/2023 14:00:00                         3641   \n3  process memory  11/04/2023 15:00:00                         3641   \n4  process memory  11/04/2023 16:00:00                         3641   \n\n   Locked page allocations (MB)  Page faults  Memory utilisation %   \n0                             0     10672556                    89  \\\n1                             0     10697532                    89   \n2                             0     10722864                    89   \n3                             0     10747824                    89   \n4                             0     10772663                    89   \n\n   report_time_interval_minutes  \n0                             5  \n1                             5  \n2                             5  \n3                             5  \n4                             5  ",
      "text/html": "<div>\n<style scoped>\n    .dataframe tbody tr th:only-of-type {\n        vertical-align: middle;\n    }\n\n    .dataframe tbody tr th {\n        vertical-align: top;\n    }\n\n    .dataframe thead th {\n        text-align: right;\n    }\n</style>\n<table border=\"1\" class=\"dataframe\">\n  <thead>\n    <tr style=\"text-align: right;\">\n      <th></th>\n      <th>report_name</th>\n      <th>report_time</th>\n      <th>Physical memory in use (MB)</th>\n      <th>Locked page allocations (MB)</th>\n      <th>Page faults</th>\n      <th>Memory utilisation %</th>\n      <th>report_time_interval_minutes</th>\n    </tr>\n  </thead>\n  <tbody>\n    <tr>\n      <th>0</th>\n      <td>process memory</td>\n      <td>11/04/2023 12:00:00</td>\n      <td>3651</td>\n      <td>0</td>\n      <td>10672556</td>\n      <td>89</td>\n      <td>5</td>\n    </tr>\n    <tr>\n      <th>1</th>\n      <td>process memory</td>\n      <td>11/04/2023 13:00:00</td>\n      <td>3648</td>\n      <td>0</td>\n      <td>10697532</td>\n      <td>89</td>\n      <td>5</td>\n    </tr>\n    <tr>\n      <th>2</th>\n      <td>process memory</td>\n      <td>11/04/2023 14:00:00</td>\n      <td>3641</td>\n      <td>0</td>\n      <td>10722864</td>\n      <td>89</td>\n      <td>5</td>\n    </tr>\n    <tr>\n      <th>3</th>\n      <td>process memory</td>\n      <td>11/04/2023 15:00:00</td>\n      <td>3641</td>\n      <td>0</td>\n      <td>10747824</td>\n      <td>89</td>\n      <td>5</td>\n    </tr>\n    <tr>\n      <th>4</th>\n      <td>process memory</td>\n      <td>11/04/2023 16:00:00</td>\n      <td>3641</td>\n      <td>0</td>\n      <td>10772663</td>\n      <td>89</td>\n      <td>5</td>\n    </tr>\n  </tbody>\n</table>\n</div>"
     },
     "execution_count": 40,
     "metadata": {},
     "output_type": "execute_result"
    }
   ],
   "source": [
    "df = pd.read_csv(\"data\\memory.csv\", decimal=',')\n",
    "df.head()"
   ],
   "metadata": {
    "collapsed": false,
    "ExecuteTime": {
     "start_time": "2023-04-17T15:07:05.146545Z",
     "end_time": "2023-04-17T15:07:05.187585Z"
    }
   }
  },
  {
   "cell_type": "code",
   "execution_count": 50,
   "outputs": [],
   "source": [
    "df['report_time'] = pd.to_datetime(df['report_time'], format=\"%d/%m/%Y %H:%M:%S\")"
   ],
   "metadata": {
    "collapsed": false,
    "ExecuteTime": {
     "start_time": "2023-04-17T17:05:13.823436Z",
     "end_time": "2023-04-17T17:05:13.846690Z"
    }
   }
  }
 ],
 "metadata": {
  "kernelspec": {
   "display_name": "Python 3",
   "language": "python",
   "name": "python3"
  },
  "language_info": {
   "codemirror_mode": {
    "name": "ipython",
    "version": 2
   },
   "file_extension": ".py",
   "mimetype": "text/x-python",
   "name": "python",
   "nbconvert_exporter": "python",
   "pygments_lexer": "ipython2",
   "version": "2.7.6"
  }
 },
 "nbformat": 4,
 "nbformat_minor": 0
}
